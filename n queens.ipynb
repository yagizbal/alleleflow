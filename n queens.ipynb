{
 "cells": [
  {
   "cell_type": "code",
   "execution_count": null,
   "metadata": {},
   "outputs": [],
   "source": [
    "from genome2 import *"
   ]
  },
  {
   "cell_type": "code",
   "execution_count": null,
   "metadata": {},
   "outputs": [],
   "source": [
    "def create_chessboard(queen_positions):\n",
    "    chessboard = np.zeros((size, size), dtype=int)\n",
    "    \n",
    "    for pos in queen_positions:\n",
    "        row = pos // size  #row number\n",
    "        col = pos % size  #column number\n",
    "        chessboard[row][col] = 1\n",
    "    \n",
    "    return chessboard\n",
    "\n",
    "def fitness(individual):\n",
    "    chessboard = create_chessboard(individual)\n",
    "    total_pairs = size * (size - 1) // 2\n",
    "\n",
    "    queens = np.array(np.where(chessboard == 1)).T\n",
    "    board_of_collisions = np.zeros((size, size), dtype=int) #this board will mark the collisions, adding a point for each collision, so that if a queen has 2 collisions, it will have a 2 in the board_of_collisions\n",
    "\n",
    "    # Iterate over each queen\n",
    "    for queen in queens:\n",
    "\n",
    "        y = queen[0]  # row number\n",
    "        x = queen[1]  # column number\n",
    "\n",
    "        # Check the row for collisions\n",
    "        for i in range(size):\n",
    "            if i != x and chessboard[y][i] == 1:  # Avoid checking with itself\n",
    "                board_of_collisions[y][x] += 1\n",
    "                \n",
    "        # Check the column for collisions\n",
    "        for i in range(size):\n",
    "            if i != y and chessboard[i][x] == 1:  # Avoid checking with itself\n",
    "                board_of_collisions[y][x] += 1\n",
    "\n",
    "        # Check diagonals for collisions\n",
    "        for i in range(size):\n",
    "            for j in range(size):\n",
    "                if i != y and j != x and abs(i - y) == abs(j - x) and chessboard[i][j] == 1:  # Avoid checking with itself and only check diagonal\n",
    "                    board_of_collisions[y][x] += 1\n",
    "\n",
    "    total_collisions = np.sum(board_of_collisions) / 2  # Each collision is counted twice so divide by 2\n",
    "    fitness_score = total_pairs - total_collisions\n",
    "\n",
    "    return fitness_score, board_of_collisions"
   ]
  },
  {
   "cell_type": "code",
   "execution_count": null,
   "metadata": {},
   "outputs": [],
   "source": [
    "global size \n",
    "size = 8\n",
    "\n",
    "\n",
    "evolutionaryalgorithm = EvolutionaryAlgorithm(fitness_func=fitness, gene_type=\"integer\",gene_range=(0, size*size-1))\n",
    "population = evolutionaryalgorithm.generate_population(population_size=10,genome_size=8)\n",
    "\n",
    "\n",
    "trained_population = evolutionaryalgorithm.train(population=population, generations=10000, mutation_rate=0.3, crossover_type='two_point', replacement_rate=0.5, mutation_strength=1.0, verbose=True)\n",
    "print(trained_population[0])\n",
    "\n",
    "board = create_chessboard(trained_population[0])\n",
    "print(board)"
   ]
  }
 ],
 "metadata": {
  "kernelspec": {
   "display_name": "Python 3",
   "language": "python",
   "name": "python3"
  },
  "language_info": {
   "codemirror_mode": {
    "name": "ipython",
    "version": 3
   },
   "file_extension": ".py",
   "mimetype": "text/x-python",
   "name": "python",
   "nbconvert_exporter": "python",
   "pygments_lexer": "ipython3",
   "version": "3.10.6"
  },
  "orig_nbformat": 4
 },
 "nbformat": 4,
 "nbformat_minor": 2
}
