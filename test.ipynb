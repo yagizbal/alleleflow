{
 "cells": [
  {
   "cell_type": "code",
   "execution_count": null,
   "metadata": {},
   "outputs": [],
   "source": [
    "from population import *\n",
    "from chess_problem import *\n",
    "from travelling_salesman import *\n",
    "import matplotlib.pyplot as plt"
   ]
  },
  {
   "cell_type": "code",
   "execution_count": null,
   "metadata": {},
   "outputs": [],
   "source": [
    "#chess\n",
    "results = []\n",
    "best_boards = []\n",
    "\n",
    "for i in range(10):\n",
    "    test_population2 = Population(population_size=100,\n",
    "                                num_chromosomes=8,\n",
    "                                chromosome_size=8,\n",
    "                                representation='binary',\n",
    "                                num_positives=1)\n",
    "\n",
    "    fitness_history2, cost_history2 = test_population2.train(fitness_function=fitness_non_attacking,\n",
    "                            num_generations=750,\n",
    "                            selection_pressure=0.1,\n",
    "                            mutation_rate=0.1,\n",
    "                            mutation_strength=1,\n",
    "                            mutation_type=\"replacement\",\n",
    "                            crossover_rate=0.1,\n",
    "                            crossover_type='ordered_crossover',\n",
    "                            scramble_rate=0.05,\n",
    "                            scramble_strength=0.25,\n",
    "                            replacement_rate=0.2,\n",
    "                            verbose=True)\n",
    "    results.append(fitness_history2)\n",
    "    #append the best board to the best boards list\n",
    "    best_boards.append(create_chessboard(test_population2.population[0], 'binary', size=8))\n",
    "\n",
    "#plot the results\n",
    "highest_fitness = []\n",
    "\n",
    "for result in results:\n",
    "    plt.plot(result)\n",
    "    highest_fitness.append(max(result))\n",
    "\n",
    "#print the board of the each run\n",
    "for en, board in enumerate(best_boards):\n",
    "    print(board, highest_fitness[en], \"\\n\")\n",
    "    \n"
   ]
  },
  {
   "cell_type": "code",
   "execution_count": null,
   "metadata": {},
   "outputs": [],
   "source": [
    "#travelling salesman\n",
    "results = []\n",
    "best_paths = []\n",
    "\n",
    "for i in range(10):\n",
    "    coordinates = generate_pc(cities=20, width=100)\n",
    "\n",
    "    test_population = Population(population_size=100,\n",
    "                                num_chromosomes=1,\n",
    "                                chromosome_size=20,\n",
    "                                representation='integer',\n",
    "                                gene_range=(0, 19),\n",
    "                                no_overlap=True)\n",
    "\n",
    "    fitness_history, cost_history = test_population.train(fitness_function=fitness_travelling_salesman,\n",
    "                                num_generations=2000,\n",
    "                                selection_pressure=0.1,\n",
    "                                mutation_rate=0.1,\n",
    "                                mutation_strength=0.2,\n",
    "                                mutation_type=\"replacement\",\n",
    "                                crossover_rate=0.1,\n",
    "                                crossover_type='one_point',\n",
    "                                scramble_rate=0,\n",
    "                                scramble_strength=0,\n",
    "                                replacement_rate=0.2,\n",
    "                                verbose=True)\n",
    "    \n",
    "    results.append(cost_history)\n",
    "    #append the best path to the best path list\n",
    "    best_paths.append(test_population.population[0].genome)\n",
    "    plot(coordinates)\n",
    "\n",
    "\n",
    "for result in results:\n",
    "    plt.plot(result)"
   ]
  }
 ],
 "metadata": {
  "kernelspec": {
   "display_name": "Python 3",
   "language": "python",
   "name": "python3"
  },
  "language_info": {
   "codemirror_mode": {
    "name": "ipython",
    "version": 3
   },
   "file_extension": ".py",
   "mimetype": "text/x-python",
   "name": "python",
   "nbconvert_exporter": "python",
   "pygments_lexer": "ipython3",
   "version": "3.10.6"
  },
  "orig_nbformat": 4
 },
 "nbformat": 4,
 "nbformat_minor": 2
}
